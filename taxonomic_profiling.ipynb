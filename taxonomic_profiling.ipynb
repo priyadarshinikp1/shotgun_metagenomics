{
  "nbformat": 4,
  "nbformat_minor": 0,
  "metadata": {
    "colab": {
      "provenance": []
    },
    "kernelspec": {
      "name": "python3",
      "display_name": "Python 3"
    },
    "language_info": {
      "name": "python"
    }
  },
  "cells": [
    {
      "cell_type": "markdown",
      "source": [
        "# Taxonomic Profiling Pipeline\n",
        "This notebook runs a preprocessing + taxonomic classification workflow:\n",
        "- QC (FastQC, fastp, MultiQC)\n",
        "- Host read removal (Kneaddata)\n",
        "- Taxonomic profiling (Kraken2 + Bracken)\n",
        "- Visualization (Krona)\n"
      ],
      "metadata": {
        "id": "LRsaBIh5ij3-"
      }
    },
    {
      "cell_type": "code",
      "execution_count": null,
      "metadata": {
        "id": "Q345EbhMiSev"
      },
      "outputs": [],
      "source": [
        "# Install dependencies (adjust depending on available Colab packages)\n",
        "!mamba install -y fastqc fastp multiqc kneaddata kraken2 bracken krona\n"
      ]
    },
    {
      "cell_type": "markdown",
      "source": [
        "## 1. Set configuration\n",
        "Define input reads, databases, and output directory.\n"
      ],
      "metadata": {
        "id": "c-8MtUGWiim9"
      }
    },
    {
      "cell_type": "code",
      "source": [
        "import os\n",
        "\n",
        "READ1 = \"/content/data/sample_R1.fastq.gz\"\n",
        "READ2 = \"/content/data/sample_R2.fastq.gz\"\n",
        "\n",
        "OUTPUT_DIR = \"/content/output\"\n",
        "OUTPUT_PREFIX = \"sample\"\n",
        "\n",
        "KNEADDATA_DB = \"/content/databases/kneaddata/human_genome\"\n",
        "KNEADDATA_DB_TYPE = \"Homo_sapiens\"\n",
        "\n",
        "KRAKEN2_DB = \"/content/databases/kraken2\"\n",
        "KRAKEN2_DB_URL = \"https://genome-idx.s3.amazonaws.com/kraken/k2_standard_8gb_202310.tgz\"\n",
        "\n",
        "BRACKEN_READ_LEN = 150\n",
        "BRACKEN_KMER = 35\n",
        "\n",
        "THREADS = \"4\"\n",
        "\n",
        "os.makedirs(OUTPUT_DIR, exist_ok=True)\n"
      ],
      "metadata": {
        "id": "cF1KE6tFjNa-"
      },
      "execution_count": null,
      "outputs": []
    },
    {
      "cell_type": "markdown",
      "source": [
        "## 2. Database setup\n",
        "Download Kneaddata and Kraken2 databases (if missing) and build Bracken DB.\n"
      ],
      "metadata": {
        "id": "bMVLPvC6jQ0o"
      }
    },
    {
      "cell_type": "code",
      "source": [
        "# Kneaddata DB\n",
        "if not os.path.exists(KNEADDATA_DB):\n",
        "    !kneaddata_database --download {KNEADDATA_DB_TYPE} bowtie2 $(dirname {KNEADDATA_DB})\n",
        "\n",
        "# Kraken2 DB\n",
        "if not os.path.exists(KRAKEN2_DB):\n",
        "    !wget {KRAKEN2_DB_URL} -O /tmp/k2_db.tgz\n",
        "    !tar -xvzf /tmp/k2_db.tgz -C $(dirname {KRAKEN2_DB})\n",
        "\n",
        "# Bracken DB\n",
        "bracken_file = os.path.join(KRAKEN2_DB, f\"database{BRACKEN_READ_LEN}mers.kmer_distrib\")\n",
        "if not os.path.exists(bracken_file):\n",
        "    !bracken-build -d {KRAKEN2_DB} -t {THREADS} -k {BRACKEN_KMER} -l {BRACKEN_READ_LEN}\n"
      ],
      "metadata": {
        "id": "5i5JTALpjS3V"
      },
      "execution_count": null,
      "outputs": []
    },
    {
      "cell_type": "markdown",
      "source": [
        "## 3. Quality Control (QC)\n",
        "Run FastQC, trimming with fastp, and MultiQC reports.\n"
      ],
      "metadata": {
        "id": "q0x5UuhMjWyj"
      }
    },
    {
      "cell_type": "code",
      "source": [
        "# FastQC raw reads\n",
        "!fastqc -o {OUTPUT_DIR} {READ1} {READ2}\n",
        "\n",
        "# fastp trimming\n",
        "!fastp \\\n",
        "    -i {READ1} -I {READ2} \\\n",
        "    -o {OUTPUT_DIR}/{OUTPUT_PREFIX}_R1.clean.fastq.gz \\\n",
        "    -O {OUTPUT_DIR}/{OUTPUT_PREFIX}_R2.clean.fastq.gz \\\n",
        "    --detect_adapter_for_pe \\\n",
        "    --cut_front --cut_tail --cut_mean_quality 20 \\\n",
        "    --length_required 50 \\\n",
        "    --trim_poly_g \\\n",
        "    --thread {THREADS} \\\n",
        "    --html {OUTPUT_DIR}/{OUTPUT_PREFIX}_fastp.html \\\n",
        "    --json {OUTPUT_DIR}/{OUTPUT_PREFIX}_fastp.json\n",
        "\n",
        "# FastQC cleaned reads\n",
        "!fastqc -o {OUTPUT_DIR} \\\n",
        "    {OUTPUT_DIR}/{OUTPUT_PREFIX}_R1.clean.fastq.gz \\\n",
        "    {OUTPUT_DIR}/{OUTPUT_PREFIX}_R2.clean.fastq.gz\n",
        "\n",
        "# MultiQC summary\n",
        "!multiqc {OUTPUT_DIR} -o {OUTPUT_DIR}\n"
      ],
      "metadata": {
        "id": "I4UT9Wz3jYlm"
      },
      "execution_count": null,
      "outputs": []
    },
    {
      "cell_type": "markdown",
      "source": [
        "## 4. Host read removal with Kneaddata\n",
        "Removes host contamination from cleaned reads.\n"
      ],
      "metadata": {
        "id": "bXB8tzMrjgcA"
      }
    },
    {
      "cell_type": "code",
      "source": [
        "!kneaddata \\\n",
        "    -i1 {OUTPUT_DIR}/{OUTPUT_PREFIX}_R1.clean.fastq.gz \\\n",
        "    -i2 {OUTPUT_DIR}/{OUTPUT_PREFIX}_R2.clean.fastq.gz \\\n",
        "    -db {KNEADDATA_DB} \\\n",
        "    -o {OUTPUT_DIR}/kneaddata_cleaned \\\n",
        "    -t {THREADS} \\\n",
        "    --output-prefix {OUTPUT_PREFIX}_cleaned\n"
      ],
      "metadata": {
        "id": "3sSMvjGyjiMG"
      },
      "execution_count": null,
      "outputs": []
    },
    {
      "cell_type": "markdown",
      "source": [
        "## 5. Taxonomic classification with Kraken2\n"
      ],
      "metadata": {
        "id": "AIlJoa1Cjkr-"
      }
    },
    {
      "cell_type": "code",
      "source": [
        "!kraken2 \\\n",
        "    --db {KRAKEN2_DB} \\\n",
        "    --threads {THREADS} \\\n",
        "    --paired \\\n",
        "    {OUTPUT_DIR}/kneaddata_cleaned/{OUTPUT_PREFIX}_cleaned_paired_1.fastq.gz \\\n",
        "    {OUTPUT_DIR}/kneaddata_cleaned/{OUTPUT_PREFIX}_cleaned_paired_2.fastq.gz \\\n",
        "    --report {OUTPUT_DIR}/{OUTPUT_PREFIX}.kraken2.report \\\n",
        "    --output {OUTPUT_DIR}/{OUTPUT_PREFIX}.kraken2.out\n"
      ],
      "metadata": {
        "id": "yQ_er8qQjmZq"
      },
      "execution_count": null,
      "outputs": []
    },
    {
      "cell_type": "markdown",
      "source": [
        "## 6. Abundance estimation with Bracken\n"
      ],
      "metadata": {
        "id": "TwRq1Ty5joZh"
      }
    },
    {
      "cell_type": "code",
      "source": [
        "!bracken \\\n",
        "    -d {KRAKEN2_DB} \\\n",
        "    -i {OUTPUT_DIR}/{OUTPUT_PREFIX}.kraken2.report \\\n",
        "    -o {OUTPUT_DIR}/{OUTPUT_PREFIX}.bracken.species \\\n",
        "    -r {BRACKEN_READ_LEN} -l S\n"
      ],
      "metadata": {
        "id": "cRb0hphJjoAH"
      },
      "execution_count": null,
      "outputs": []
    },
    {
      "cell_type": "markdown",
      "source": [
        "## 7. Visualization with Krona\n"
      ],
      "metadata": {
        "id": "QxWv9sshjsGs"
      }
    },
    {
      "cell_type": "code",
      "source": [
        "# Krona taxonomy update (if needed)\n",
        "!ktUpdateTaxonomy.sh\n",
        "\n",
        "# Prepare and visualize\n",
        "!cut -f2,3 {OUTPUT_DIR}/{OUTPUT_PREFIX}.kraken2.out > {OUTPUT_DIR}/{OUTPUT_PREFIX}.krona.input\n",
        "!ktImportTaxonomy {OUTPUT_DIR}/{OUTPUT_PREFIX}.krona.input -o {OUTPUT_DIR}/{OUTPUT_PREFIX}.krona.html\n"
      ],
      "metadata": {
        "id": "KML_Mn34js2C"
      },
      "execution_count": null,
      "outputs": []
    }
  ]
}
