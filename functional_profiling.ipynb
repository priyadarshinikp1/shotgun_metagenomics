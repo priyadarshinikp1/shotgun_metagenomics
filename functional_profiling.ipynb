{
 "cells": [
  {
   "cell_type": "markdown",
   "id": "b841e13c",
   "metadata": {},
   "source": [
    "Functional Profiling Pipeline (HUMAnN3)\n",
    "\n",
    "This notebook runs a functional profiling workflow:\n",
    "\n",
    "Install HUMAnN3\n",
    "\n",
    "Download databases (ChocoPhlAn + UniRef)\n",
    "\n",
    "Merge paired reads\n",
    "\n",
    "Run HUMAnN3 functional profiling\n",
    "\n",
    "Post-process outputs (join + normalize tables)"
   ]
  },
  {
   "cell_type": "markdown",
   "id": "f1527c7f",
   "metadata": {},
   "source": [
    "# Install HUMAnN3\n",
    "(adjust depending on available Colab packages)"
   ]
  },
  {
   "cell_type": "code",
   "execution_count": null,
   "id": "b98bdff3",
   "metadata": {
    "vscode": {
     "languageId": "plaintext"
    }
   },
   "outputs": [],
   "source": [
    "conda config --add channels defaults\n",
    "conda config --add channels bioconda\n",
    "conda config --add channels conda-forge\n",
    "conda config --add channels biobakery\n",
    "\n",
    "conda install -y humann -c biobakery\n"
   ]
  },
  {
   "cell_type": "markdown",
   "id": "1d7f9206",
   "metadata": {},
   "source": [
    "# 1. Set configuration\n",
    "Define input reads, databases, and output directories."
   ]
  },
  {
   "cell_type": "code",
   "execution_count": null,
   "id": "ef1364c5",
   "metadata": {
    "vscode": {
     "languageId": "plaintext"
    }
   },
   "outputs": [],
   "source": [
    "import os\n",
    "\n",
    "READ1 = \"/content/data/sample_R1.fastq.gz\"\n",
    "READ2 = \"/content/data/sample_R2.fastq.gz\"\n",
    "\n",
    "OUTPUT_DIR = \"/content/humann_output\"\n",
    "MERGED_DIR = os.path.join(OUTPUT_DIR, \"merged_reads\")\n",
    "os.makedirs(MERGED_DIR, exist_ok=True)\n",
    "\n",
    "DB_DIR = \"/content/humann_databases\"\n",
    "CHOCO_DB = os.path.join(DB_DIR, \"chocophlan\")\n",
    "UNIREF_DB = os.path.join(DB_DIR, \"uniref\")\n",
    "os.makedirs(CHOCO_DB, exist_ok=True)\n",
    "os.makedirs(UNIREF_DB, exist_ok=True)\n",
    "\n",
    "THREADS = \"4\"\n"
   ]
  },
  {
   "cell_type": "markdown",
   "id": "837ba63c",
   "metadata": {},
   "source": [
    "# 2. Database setup\n",
    "Download ChocoPhlAn + UniRef if not already present.\n"
   ]
  },
  {
   "cell_type": "code",
   "execution_count": null,
   "id": "339661e9",
   "metadata": {
    "vscode": {
     "languageId": "plaintext"
    }
   },
   "outputs": [],
   "source": [
    "# ChocoPhlAn\n",
    "humann_databases --download chocophlan full /content/humann_databases/chocophlan --update-config yes\n",
    "\n",
    "# UniRef50 (can change to uniref90_diamond)\n",
    "humann_databases --download uniref uniref50_diamond /content/humann_databases/uniref --update-config yes\n"
   ]
  },
  {
   "cell_type": "markdown",
   "id": "57d7dd12",
   "metadata": {},
   "source": [
    "# 3. Merge paired reads\n",
    "Combine forward and reverse reads into one file.\n"
   ]
  },
  {
   "cell_type": "code",
   "execution_count": null,
   "id": "c85fdc04",
   "metadata": {
    "vscode": {
     "languageId": "plaintext"
    }
   },
   "outputs": [],
   "source": [
    "cat /content/data/sample_R1.fastq.gz /content/data/sample_R2.fastq.gz > /content/humann_output/merged_reads/sample_merged.fastq.gz"
   ]
  },
  {
   "cell_type": "markdown",
   "id": "b138ffa7",
   "metadata": {},
   "source": [
    "# 4. Run HUMAnN3\n",
    "Run functional profiling on merged reads."
   ]
  },
  {
   "cell_type": "code",
   "execution_count": null,
   "id": "7124ada4",
   "metadata": {
    "vscode": {
     "languageId": "plaintext"
    }
   },
   "outputs": [],
   "source": [
    "humann \\\n",
    "  --input /content/humann_output/merged_reads/sample_merged.fastq.gz \\\n",
    "  --output /content/humann_output \\\n",
    "  --threads 4"
   ]
  },
  {
   "cell_type": "markdown",
   "id": "ea6ce2fb",
   "metadata": {},
   "source": [
    "# 5. Post-processing\n",
    "Join and normalize HUMAnN3 output tables."
   ]
  },
  {
   "cell_type": "code",
   "execution_count": null,
   "id": "23c0322a",
   "metadata": {
    "vscode": {
     "languageId": "plaintext"
    }
   },
   "outputs": [],
   "source": [
    "humann_join_tables --input /content/humann_output --output /content/humann_output/genefamilies.tsv --file_name genefamilies\n",
    "humann_join_tables --input /content/humann_output --output /content/humann_output/pathabundance.tsv --file_name pathabundance\n",
    "\n",
    "humann_normalize_table --input /content/humann_output/genefamilies.tsv --output /content/humann_output/genefamilies_cpm.tsv --units cpm\n",
    "humann_normalize_table --input /content/humann_output/pathabundance.tsv --output /content/humann_output/pathabundance_relab.tsv --units relab\n"
   ]
  }
 ],
 "metadata": {
  "language_info": {
   "name": "python"
  }
 },
 "nbformat": 4,
 "nbformat_minor": 5
}
