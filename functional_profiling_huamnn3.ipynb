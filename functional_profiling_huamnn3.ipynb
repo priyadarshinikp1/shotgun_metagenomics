{
  "nbformat": 4,
  "nbformat_minor": 0,
  "metadata": {
    "colab": {
      "provenance": []
    },
    "kernelspec": {
      "name": "python3",
      "display_name": "Python 3"
    },
    "language_info": {
      "name": "python"
    }
  },
  "cells": [
    {
      "cell_type": "markdown",
      "source": [
        "\n",
        "\n",
        "Install HUMAnN3 via conda\n",
        "\n"
      ],
      "metadata": {
        "id": "TwZc8M9EbBXl"
      }
    },
    {
      "cell_type": "code",
      "execution_count": null,
      "metadata": {
        "id": "WdhT9zdfCBi6"
      },
      "outputs": [],
      "source": [
        "conda config --add channels defaults\n",
        "conda config --add channels bioconda\n",
        "conda config --add channels conda-forge\n",
        "conda config --add channels biobakery\n",
        "\n",
        "conda install -y humann -c biobakery"
      ]
    },
    {
      "cell_type": "markdown",
      "source": [
        "Download ChocoPhlAn database and uniref database (50/90 version based on storage)"
      ],
      "metadata": {
        "id": "OwXUmQB8bNS7"
      }
    },
    {
      "cell_type": "code",
      "source": [
        "mkdir -p /path/to/databases\n",
        "\n",
        "humann_databases --download chocophlan full /path/to/databases --update-config yes\n",
        "\n",
        "humann_databases --download uniref uniref50_diamond /path/to/databases --update-config yes"
      ],
      "metadata": {
        "id": "6Az4w09RbWKp"
      },
      "execution_count": null,
      "outputs": []
    },
    {
      "cell_type": "markdown",
      "source": [
        "Merge paired reads (reads after preprocessing and host decontamination)"
      ],
      "metadata": {
        "id": "2IxiACcabbBi"
      }
    },
    {
      "cell_type": "code",
      "source": [
        "mkdir -p /path/to/merged_reads\n",
        "\n",
        "for R1 in /path/to/cleaned_reads/*_paired_1.fastq; do\n",
        "    SAMPLE=$(basename \"$R1\" \"_paired_1.fastq\")\n",
        "    R2=\"${R1/_paired_1.fastq/_paired_2.fastq}\"\n",
        "    cat \"$R1\" \"$R2\" > /path/to/merged_reads/${SAMPLE}_merged.fastq\n",
        "done"
      ],
      "metadata": {
        "id": "8xVbLXMXbpJ7"
      },
      "execution_count": null,
      "outputs": []
    },
    {
      "cell_type": "markdown",
      "source": [
        "Run HUMAnN3 on merged reads"
      ],
      "metadata": {
        "id": "QWSY8t4Ib_33"
      }
    },
    {
      "cell_type": "code",
      "source": [
        "mkdir -p /path/to/humann_output\n",
        "\n",
        "for MERGED in /path/to/merged_reads/*_merged.fastq; do\n",
        "    humann \\\n",
        "      --input $MERGED \\\n",
        "      --output /path/to/humann_output \\\n",
        "      --threads 4\n",
        "done"
      ],
      "metadata": {
        "id": "eRz4Bv_BcC1i"
      },
      "execution_count": null,
      "outputs": []
    },
    {
      "cell_type": "markdown",
      "source": [
        "Post-processing of HUMAnN3 results"
      ],
      "metadata": {
        "id": "2dginB8zcGh3"
      }
    },
    {
      "cell_type": "code",
      "source": [
        "humann_join_tables --input /path/to/humann_output --output /path/to/humann_output/genefamilies.tsv --file_name genefamilies\n",
        "humann_join_tables --input /path/to/humann_output --output /path/to/humann_output/pathabundance.tsv --file_name pathabundance\n",
        "\n",
        "humann_normalize_table --input /path/to/humann_output/genefamilies.tsv --output /path/to/humann_output/genefamilies_cpm.tsv --units cpm\n",
        "humann_normalize_table --input /path/to/humann_output/pathabundance.tsv --output /path/to/humann_output/pathabundance_relab.tsv --units relab"
      ],
      "metadata": {
        "id": "HGJ4LYcVcLG_"
      },
      "execution_count": null,
      "outputs": []
    }
  ]
}